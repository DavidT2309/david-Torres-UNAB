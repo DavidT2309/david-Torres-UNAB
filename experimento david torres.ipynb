{
 "cells": [
  {
   "cell_type": "markdown",
   "metadata": {},
   "source": [
    "#Experimento David Torres"
   ]
  },
  {
   "cell_type": "markdown",
   "metadata": {},
   "source": [
    "aca podra ver como utilizo jupyter + python y pueda ver como se crea el avance"
   ]
  },
  {
   "cell_type": "markdown",
   "metadata": {},
   "source": [
    "Lenguajes utilizados para la utilizacion de ciencias de datos:\n",
    "- Python\n",
    "- R\n",
    "- SQL\n",
    "- Julia\n",
    "- MATLAB\n",
    "- Scala\n",
    "- Java\n",
    "- c/c++\n",
    "-swift\n",
    "-go"
   ]
  },
  {
   "cell_type": "markdown",
   "metadata": {},
   "source": [
    "Bibliotecas de ciencia de datos:\n",
    "\n",
    "- Pandas\n",
    "- NumPy\n",
    "- PySpark\n",
    "- Dask\n",
    "-Matplotlib\n",
    "- Seaborn\n",
    "- Plotly\n",
    "- ggplot\n",
    "- Bokeh\n",
    "- Scikit-learn\n",
    "- XGBoost\n",
    "- LightGBM\n",
    "- CatBoost\n",
    "- TensorFlow\n",
    "- PyTorch\n",
    "- Keras\n",
    "- Fast.ai\n",
    "- NLTK \n",
    "- Gensim\n",
    "- Statsmodels\n",
    "- SciPy\n",
    "- PyMC3\n",
    "- Apache Hadoops\n",
    "- Apache Spark\n",
    "- HDF5\n",
    "- Airflow\n",
    "- Luigi\n",
    "- Prefect\n",
    "- MLflow\n",
    "- Weights & Biases-learning y visualización.\n",
    "- TensorBoard\n",
    "- Jupyter Notebooks\n",
    "- DVC \n",
    "- Great Expectations"
   ]
  },
  {
   "cell_type": "markdown",
   "metadata": {},
   "source": [
    "| **Categoría**               | **Herramienta**       | \n",
    "|-----------------------------|-----------------------|\n",
    "| **Procesamiento de Datos**  | Pandas               |\n",
    "|                             | NumPy                | \n",
    "|                             | PySpark              | \n",
    "| **Visualización**           | Matplotlib           | \n",
    "|                             | Seaborn              |\n",
    "|                             | Plotly               | \n",
    "| **Machine Learning**        | Scikit-learn         | \n",
    "|                             | XGBoost              | \n",
    "|                             | LightGBM             | \n",
    "| **Deep Learning**           | TensorFlow           | \n",
    "|                             | PyTorch              | \n",
    "|                             | Keras                | \n",
    "| **NLP**                     | NLTK                 | \n",
    "|                             | spaCy                | \n",
    "|                             | Transformers         | \n",
    "| **Análisis Estadístico**    | Statsmodels          | \n",
    "|                             | SciPy                | \n",
    "| **Big Data**                | Apache Hadoop        | \n",
    "|                             | Apache Spark         |\n",
    "| **Automatización**          | Airflow              |\n",
    "|                             | Luigi                |\n",
    "| **Experimentación**         | MLflow               | \n",
    "|                             | Weights & Biases     | \n",
    "| **Otras Herramientas**      | Jupyter Notebooks    | \n",
    "|                             | DVC                  |"
   ]
  },
  {
   "cell_type": "markdown",
   "metadata": {},
   "source": [
    "Ejemplos de Expresiones Aritméticas:\n",
    "\n",
    "1. **Suma**:\n",
    "5 + 3 = 8\n",
    "La suma de 5 y 3 es 8.\n",
    "\n",
    "2. **Resta**:\n",
    "9 - 4 = 5\n",
    "La resta de 4 a 9 es 5.\n",
    "\n",
    "3. **Multiplicación**:\n",
    "7 * 2 = 14\n",
    "El producto de 7 y 2 es 14.\n",
    "\n",
    "4. **División**:\n",
    "16/4 = 4\n",
    "La división de 16 entre 4 es 4.\n"
   ]
  },
  {
   "cell_type": "code",
   "execution_count": null,
   "metadata": {},
   "outputs": [],
   "source": [
    "# Ejemplo de multiplicación y suma\n",
    "\n",
    "\n",
    "numero1 = 5\n",
    "numero2 = 3\n",
    "\n",
    "# Multiplicar\n",
    "resultadoM = numero1 * numero2\n",
    "print(f\"La multiplicación de {numero1} y {numero2} es: {resultadoM}\")\n",
    "\n",
    "# Sumatoria\n",
    "resultado_S = numero1 + numero2\n",
    "print(f\"La suma de {numero1} y {numero2} es: {resultado_S}\")\n",
    "\n",
    "# Combinar\n",
    "resultado_combinado = (numero1 * numero2) + (numero1 + numero2)\n",
    "print(f\"El resultado ({numero1} * {numero2}) + ({numero1} + {numero2}) es: {resultado_combinado}\")"
   ]
  },
  {
   "cell_type": "code",
   "execution_count": null,
   "metadata": {},
   "outputs": [],
   "source": [
    "# minutos a horas y minutos\n",
    "minutos_T = int(input(\"Ingrese la cantidad de minutos: \"))\n",
    "\n",
    "horas = minutos_T// 60\n",
    "minutos_R = minutos_T % 60  \n",
    "print(f\"{minutos_T} minutos equivalen a {horas} horas y {minutos_R} minutos.\")"
   ]
  }
 ],
 "metadata": {
  "kernelspec": {
   "display_name": "Python 3",
   "language": "python",
   "name": "python3"
  },
  "language_info": {
   "codemirror_mode": {
    "name": "ipython",
    "version": 3
   },
   "file_extension": ".py",
   "mimetype": "text/x-python",
   "name": "python",
   "nbconvert_exporter": "python",
   "pygments_lexer": "ipython3",
   "version": "3.7.9"
  }
 },
 "nbformat": 4,
 "nbformat_minor": 2
}
